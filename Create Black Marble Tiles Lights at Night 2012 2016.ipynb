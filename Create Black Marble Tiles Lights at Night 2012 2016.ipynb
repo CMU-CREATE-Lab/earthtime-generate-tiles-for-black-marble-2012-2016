{
 "cells": [
  {
   "cell_type": "code",
   "execution_count": 3,
   "metadata": {
    "collapsed": false
   },
   "outputs": [],
   "source": [
    "import concurrent, glob, multiprocessing, os, subprocess, sys, threading, time, traceback, urllib2\n",
    "\n",
    "def download_file(url, filename):\n",
    "    if os.path.exists(filename):\n",
    "        sys.stdout.write('%s already downloaded\\n' % filename)\n",
    "    else:\n",
    "        if not os.path.exists(os.path.dirname(filename)):\n",
    "            os.makedirs(os.path.dirname(filename))\n",
    "        sys.stdout.write('Downloading %s to %s\\n' % (url, filename))\n",
    "        data = urllib2.urlopen(url).read()\n",
    "        open(filename + '.tmp', \"wb\").write(data)\n",
    "        os.rename(filename + '.tmp', filename)\n",
    "        sys.stdout.write('Done, wrote %d bytes to %s\\n' % (len(data), filename))\n",
    "        \n",
    "def subprocess_check(*args, **kwargs):\n",
    "    if len(args) == 1 and type(args[0]) == str:\n",
    "        kwargs['shell'] = True\n",
    "        cmd = args\n",
    "    else:\n",
    "        cmd = ' '.join(args)\n",
    "    p = subprocess.Popen(*args,  \n",
    "                         stdout=subprocess.PIPE, \n",
    "                         stderr=subprocess.PIPE,\n",
    "                         **kwargs)\n",
    "    (out, err) = p.communicate()\n",
    "    ret = p.wait()\n",
    "    if ret != 0:\n",
    "        if out and out[-1] != '\\n':\n",
    "            out += '\\n'\n",
    "        if err and err[-1] != '\\n':\n",
    "            err += '\\n'\n",
    "        raise Exception(\n",
    "            ('Call to subprocess_check failed with return code {ret}\\n'\n",
    "             'Command: {cmd}\\n'\n",
    "             'Standard error:\\n{err}\\n'\n",
    "             'Standard out:\\n{out}\\n').format(**locals()))\n",
    "    if err != '' and out != '' and err[-1] != '\\n':\n",
    "        err += '\\n'\n",
    "    return err + out\n",
    "\n",
    "class Stopwatch:\n",
    "    def __init__(self, msg):\n",
    "        self.msg = msg\n",
    "        \n",
    "    def __enter__(self):\n",
    "        self.start = time.time()\n",
    "        \n",
    "    def __exit__(self, a, b, c):\n",
    "        print '%s took %.1f seconds' % (self.msg, time.time() - self.start)\n",
    "        \n",
    "class Promise:\n",
    "    def __init__(self, *args):\n",
    "        def thunk():\n",
    "            self.result = apply(args[0], args[1:])\n",
    "        self.thread = threading.Thread(target=thunk)\n",
    "        self.thread.start()\n",
    "        \n",
    "    def value(self):\n",
    "        self.thread.join()\n",
    "        return self.result\n",
    "    \n",
    "class SimpleThreadPoolExecutor(concurrent.futures.ThreadPoolExecutor):\n",
    "    def __init__(self, max_workers):\n",
    "        super(SimpleThreadPoolExecutor, self).__init__(max_workers=max_workers)\n",
    "        self.futures = []\n",
    "        \n",
    "    def submit(self, fn, *args, **kwargs):\n",
    "        future = super(SimpleThreadPoolExecutor, self).submit(fn, *args, **kwargs)\n",
    "        self.futures.append(future)\n",
    "        return future\n",
    "    \n",
    "    def get_futures(self):\n",
    "        return self.futures\n",
    "\n",
    "    def shutdown(self):\n",
    "        exception_count = 0\n",
    "        results = []\n",
    "        for completed in concurrent.futures.as_completed(self.futures):\n",
    "            try:\n",
    "                results.append(completed.result())\n",
    "            except Exception as e:\n",
    "                exception_count += 1\n",
    "                sys.stderr.write(\n",
    "                    'Exception caught in SimpleThreadPoolExecutor.shutdown.  Continuing until all are finished.\\n' +\n",
    "                    'Exception follows:\\n' +\n",
    "                    traceback.format_exc())\n",
    "        super(SimpleThreadPoolExecutor, self).shutdown()\n",
    "        if exception_count:\n",
    "            raise Exception('SimpleThreadPoolExecutor failed: %d of %d raised exception' % (exception_count, len(self.futures)))\n",
    "        print 'SimpleThreadPoolExecutor succeeded: all %d jobs completed' % (len(self.futures))\n",
    "        return results\n",
    "\n",
    "max_subprocess_parallelism = 8\n",
    "subprocess_semaphore = multiprocessing.Semaphore(max_subprocess_parallelism)\n",
    "def throttled_subprocess_check(cmd):\n",
    "    subprocess_semaphore.acquire()\n",
    "    try:\n",
    "        subprocess_check(cmd)\n",
    "    finally:\n",
    "        subprocess_semaphore.release()    \n",
    "\n",
    "max_download_parallelism = 6\n",
    "download_semaphore = multiprocessing.Semaphore(max_download_parallelism)\n",
    "def throttled_download_file(src, dest):\n",
    "    with download_semaphore:\n",
    "        download_file(src, dest)\n",
    "\n",
    "        \n",
    "        "
   ]
  },
  {
   "cell_type": "markdown",
   "metadata": {},
   "source": [
    "## Download sections and build VRTs"
   ]
  },
  {
   "cell_type": "code",
   "execution_count": 22,
   "metadata": {
    "collapsed": false
   },
   "outputs": [
    {
     "name": "stdout",
     "output_type": "stream",
     "text": [
      "2012/BlackMarble_2012_A1_geo.tif already downloaded\n",
      "2012/BlackMarble_2012_A1_geo_corrected.tif already exists\n",
      "2012/BlackMarble_2012_A1_geo_corrected_projected_N.tif already exists\n",
      "2012/BlackMarble_2012_B1_geo.tif already downloaded\n",
      "2012/BlackMarble_2012_A1_geo_corrected_projected_S.tif already exists\n",
      "Corrected projection on 2012/BlackMarble_2012_A1_geo.tif and reprojected to web mercator2012/BlackMarble_2012_C1_geo.tif already downloaded\n",
      "\n",
      "2012/BlackMarble_2012_B1_geo_corrected.tif already exists\n",
      "2012/BlackMarble_2012_D1_geo.tif already downloaded\n",
      "2012/BlackMarble_2012_D1_geo_corrected.tif already exists\n",
      "2012/BlackMarble_2012_D1_geo_corrected_projected_N.tif already exists\n",
      "2012/BlackMarble_2012_C1_geo_corrected.tif already exists\n",
      " 2012/BlackMarble_2012_B1_geo_corrected_projected_N.tif already exists2012/BlackMarble_2012_D1_geo_corrected_projected_S.tif already exists2012/BlackMarble_2012_C1_geo_corrected_projected_N.tif already exists\n",
      "\n",
      "\n",
      "2012/BlackMarble_2012_A2_geo.tif already downloaded\n",
      "2012/BlackMarble_2012_B1_geo_corrected_projected_S.tif already existsCorrected projection on 2012/BlackMarble_2012_D1_geo.tif and reprojected to web mercator2012/BlackMarble_2012_C1_geo_corrected_projected_S.tif already exists2012/BlackMarble_2012_A2_geo_corrected.tif already exists\n",
      "\n",
      "\n",
      "\n",
      "2012/BlackMarble_2012_B2_geo.tif already downloaded\n",
      "Corrected projection on 2012/BlackMarble_2012_B1_geo.tif and reprojected to web mercatorCorrected projection on 2012/BlackMarble_2012_C1_geo.tif and reprojected to web mercator2012/BlackMarble_2012_A2_geo_corrected_projected_N.tif already exists\n",
      " 2012/BlackMarble_2012_C2_geo.tif already downloaded\n",
      "\n",
      "\n",
      "2012/BlackMarble_2012_D2_geo.tif already downloaded\n",
      "2012/BlackMarble_2012_B2_geo_corrected.tif already exists2012/BlackMarble_2012_A2_geo_corrected_projected_S.tif already exists2012/BlackMarble_2012_C2_geo_corrected.tif already exists\n",
      " 2012/BlackMarble_2012_D2_geo_corrected.tif already exists\n",
      "\n",
      "\n",
      "Corrected projection on 2012/BlackMarble_2012_A2_geo.tif and reprojected to web mercator2012/BlackMarble_2012_B2_geo_corrected_projected_N.tif already exists2012/BlackMarble_2012_C2_geo_corrected_projected_N.tif already exists\n",
      "\n",
      "\n",
      " 2012/BlackMarble_2012_B2_geo_corrected_projected_S.tif already exists2012/BlackMarble_2012_D2_geo_corrected_projected_N.tif already exists\n",
      " \n",
      "Corrected projection on 2012/BlackMarble_2012_B2_geo.tif and reprojected to web mercator2012/BlackMarble_2012_C2_geo_corrected_projected_S.tif already exists\n",
      " 2012/BlackMarble_2012_D2_geo_corrected_projected_S.tif already exists\n",
      "\n",
      "Corrected projection on 2012/BlackMarble_2012_C2_geo.tif and reprojected to web mercatorCorrected projection on 2012/BlackMarble_2012_D2_geo.tif and reprojected to web mercator\n",
      "\n",
      "2016/BlackMarble_2016_A1_geo.tif already downloaded\n",
      "2016/BlackMarble_2016_A1_geo_corrected.tif already exists\n",
      "2016/BlackMarble_2016_A1_geo_corrected_projected_N.tif already exists\n",
      "2016/BlackMarble_2016_A1_geo_corrected_projected_S.tif already exists\n",
      "Corrected projection on 2016/BlackMarble_2016_A1_geo.tif and reprojected to web mercator\n",
      "2016/BlackMarble_2016_B1_geo.tif already downloaded\n",
      "2016/BlackMarble_2016_B1_geo_corrected.tif already exists\n",
      "2016/BlackMarble_2016_B1_geo_corrected_projected_N.tif already exists\n",
      "2016/BlackMarble_2016_B1_geo_corrected_projected_S.tif already exists\n",
      "Corrected projection on 2016/BlackMarble_2016_B1_geo.tif and reprojected to web mercator\n",
      "2016/BlackMarble_2016_C1_geo.tif already downloaded\n",
      "2016/BlackMarble_2016_C1_geo_corrected.tif already exists\n",
      "2016/BlackMarble_2016_C1_geo_corrected_projected_N.tif already exists\n",
      "2016/BlackMarble_2016_C1_geo_corrected_projected_S.tif already exists\n",
      "Corrected projection on 2016/BlackMarble_2016_C1_geo.tif and reprojected to web mercator\n",
      "2016/BlackMarble_2016_D1_geo.tif already downloaded\n",
      "2016/BlackMarble_2016_D1_geo_corrected.tif already exists\n",
      "2016/BlackMarble_2016_D1_geo_corrected_projected_N.tif already exists\n",
      "2016/BlackMarble_2016_D1_geo_corrected_projected_S.tif already exists\n",
      "Corrected projection on 2016/BlackMarble_2016_D1_geo.tif and reprojected to web mercator\n",
      "2016/BlackMarble_2016_A2_geo.tif already downloaded\n",
      "2016/BlackMarble_2016_B2_geo.tif already downloaded\n",
      "2016/BlackMarble_2016_B2_geo_corrected.tif already exists\n",
      "2016/BlackMarble_2016_B2_geo_corrected_projected_N.tif already exists\n",
      " 2016/BlackMarble_2016_B2_geo_corrected_projected_S.tif already exists2016/BlackMarble_2016_A2_geo_corrected.tif already exists2016/BlackMarble_2016_C2_geo.tif already downloaded\n",
      "\n",
      "\n",
      "Corrected projection on 2016/BlackMarble_2016_B2_geo.tif and reprojected to web mercator2016/BlackMarble_2016_C2_geo_corrected.tif already exists2016/BlackMarble_2016_A2_geo_corrected_projected_N.tif already exists\n",
      "2016/BlackMarble_2016_D2_geo.tif already downloaded\n",
      "\n",
      "\n",
      " 2016/BlackMarble_2016_A2_geo_corrected_projected_S.tif already exists2016/BlackMarble_2016_C2_geo_corrected_projected_N.tif already exists2016/BlackMarble_2016_D2_geo_corrected.tif already exists\n",
      "Corrected projection on 2016/BlackMarble_2016_A2_geo.tif and reprojected to web mercator\n",
      "\n",
      "\n",
      "2016/BlackMarble_2016_D2_geo_corrected_projected_N.tif already exists\n",
      " 2016/BlackMarble_2016_D2_geo_corrected_projected_S.tif already exists2016/BlackMarble_2016_C2_geo_corrected_projected_S.tif already exists\n",
      "\n",
      "Corrected projection on 2016/BlackMarble_2016_D2_geo.tif and reprojected to web mercatorCorrected projection on 2016/BlackMarble_2016_C2_geo.tif and reprojected to web mercator\n",
      "\n",
      "SimpleThreadPoolExecutor succeeded: all 16 jobs completed\n"
     ]
    },
    {
     "data": {
      "text/plain": [
       "[None,\n",
       " None,\n",
       " None,\n",
       " None,\n",
       " None,\n",
       " None,\n",
       " None,\n",
       " None,\n",
       " None,\n",
       " None,\n",
       " None,\n",
       " None,\n",
       " None,\n",
       " None,\n",
       " None,\n",
       " None]"
      ]
     },
     "execution_count": 22,
     "metadata": {},
     "output_type": "execute_result"
    }
   ],
   "source": [
    "webmerc_halfwidth = 20037508.342789244\n",
    "webmerc_width = webmerc_halfwidth * 2\n",
    "\n",
    "def correct_and_reproject(src, row, col):\n",
    "    dest = os.path.splitext(src)[0] + '_corrected.tif'\n",
    "    if os.path.exists(dest):\n",
    "        print '{dest} already exists'.format(**locals())\n",
    "    else:\n",
    "        tmp = dest + '.tmp.tif'\n",
    "        n = 90 - 90 * row\n",
    "        s = n - 90\n",
    "        w = -180 + 90 * col\n",
    "        e = w + 90\n",
    "        try:\n",
    "            os.unlink(tmp)\n",
    "        except:\n",
    "            pass\n",
    "        cmd = 'gdal_translate -a_srs EPSG:4326 -a_ullr {w} {n} {e} {s} {src} {tmp}'\n",
    "        cmd = cmd.format(**locals())\n",
    "        print cmd\n",
    "        throttled_subprocess_check(cmd)\n",
    "        os.rename(tmp, dest)\n",
    "    \n",
    "    for subrow in range(row*2, row*2+2):\n",
    "        n = - webmerc_width * (subrow + 1) / 4.0 + webmerc_halfwidth\n",
    "        s = - webmerc_width * (subrow + 0) / 4.0 + webmerc_halfwidth\n",
    "        w = webmerc_width * col / 4.0 - webmerc_halfwidth\n",
    "        e = webmerc_width * (col + 1) / 4.0 - webmerc_halfwidth\n",
    "        proj_dest = os.path.splitext(dest)[0] + '_projected_' + 'NS'[subrow % 2] + '.tif'\n",
    "        if os.path.exists(proj_dest):\n",
    "            print '{proj_dest} already exists'.format(**locals())\n",
    "        else:\n",
    "            proj_tmp = proj_dest + '.tmp.tif'\n",
    "            cmd = 'gdalwarp {dest} -t_srs EPSG:3857'\n",
    "            cmd += ' -r lanczos'\n",
    "            cmd += ' -te {w} {n} {e} {s}'\n",
    "            cmd += ' -ts 32768 32768'\n",
    "            cmd += ' {proj_tmp}'\n",
    "            cmd = cmd.format(**locals())\n",
    "            try:\n",
    "                os.unlink(proj_tmp)\n",
    "            except:\n",
    "                pass\n",
    "            print cmd\n",
    "            throttled_subprocess_check(cmd)\n",
    "            os.rename(proj_tmp, proj_dest)\n",
    "        \n",
    "    print 'Corrected projection on {src} and reprojected to web mercator'.format(**locals())\n",
    " \n",
    "def download_correct_and_reproject(src, dest, row, col):\n",
    "    throttled_download_file(src, dest)\n",
    "    correct_and_reproject(dest, row, col)\n",
    "\n",
    "pool = SimpleThreadPoolExecutor(30)\n",
    "\n",
    "for year in [2012, 2016]:\n",
    "    !mkdir -p $year\n",
    "    for row in range(2):\n",
    "        rowname = '12'[row]\n",
    "        for col in range(4):\n",
    "            colname = 'ABCD'[col]\n",
    "            filename = 'BlackMarble_{year}_{colname}{rowname}_geo.tif'.format(**locals())\n",
    "            src = 'https://www.nasa.gov/specials/blackmarble/{year}/tiles/georeferrenced/'.format(**locals()) + filename\n",
    "            dest = '%d/%s' % (year, filename)\n",
    "            pool.submit(download_correct_and_reproject, src, dest, row, col)\n",
    "\n",
    "pool.shutdown()"
   ]
  },
  {
   "cell_type": "code",
   "execution_count": 23,
   "metadata": {
    "collapsed": false
   },
   "outputs": [
    {
     "name": "stdout",
     "output_type": "stream",
     "text": [
      "0...10...20...30...40...50...60...70...80...90...100 - done.\n",
      "Size is 131072, 131072\n"
     ]
    }
   ],
   "source": [
    "!gdalbuildvrt 2012.vrt 2012/*corrected_projected_?.tif\n",
    "!gdalinfo 2012.vrt | grep 'Size is'"
   ]
  },
  {
   "cell_type": "code",
   "execution_count": 15,
   "metadata": {
    "collapsed": false
   },
   "outputs": [
    {
     "name": "stdout",
     "output_type": "stream",
     "text": [
      "Driver: GTiff/GeoTIFF\r\n",
      "Files: 2012/BlackMarble_2012_A2_geo_corrected_projected_N.tif\r\n",
      "Size is 32768, 32768\r\n",
      "Coordinate System is:\r\n",
      "PROJCS[\"WGS 84 / Pseudo-Mercator\",\r\n",
      "    GEOGCS[\"WGS 84\",\r\n",
      "        DATUM[\"WGS_1984\",\r\n",
      "            SPHEROID[\"WGS 84\",6378137,298.257223563,\r\n",
      "                AUTHORITY[\"EPSG\",\"7030\"]],\r\n",
      "            AUTHORITY[\"EPSG\",\"6326\"]],\r\n",
      "        PRIMEM[\"Greenwich\",0],\r\n",
      "        UNIT[\"degree\",0.0174532925199433],\r\n",
      "        AUTHORITY[\"EPSG\",\"4326\"]],\r\n",
      "    PROJECTION[\"Mercator_1SP\"],\r\n",
      "    PARAMETER[\"central_meridian\",0],\r\n",
      "    PARAMETER[\"scale_factor\",1],\r\n",
      "    PARAMETER[\"false_easting\",0],\r\n",
      "    PARAMETER[\"false_northing\",0],\r\n",
      "    UNIT[\"metre\",1,\r\n",
      "        AUTHORITY[\"EPSG\",\"9001\"]],\r\n",
      "    EXTENSION[\"PROJ4\",\"+proj=merc +a=6378137 +b=6378137 +lat_ts=0.0 +lon_0=0.0 +x_0=0.0 +y_0=0 +k=1.0 +units=m +nadgrids=@null +wktext  +no_defs\"],\r\n",
      "    AUTHORITY[\"EPSG\",\"3857\"]]\r\n",
      "Origin = (-20037508.342799998819828,10018754.171399999409914)\r\n",
      "Pixel Size = (305.748113140869123,-305.748113140869123)\r\n",
      "Metadata:\r\n",
      "  AREA_OR_POINT=Area\r\n",
      "  TIFFTAG_DATETIME=2017:04:06 20:22:18\r\n",
      "  TIFFTAG_RESOLUTIONUNIT=2 (pixels/inch)\r\n",
      "  TIFFTAG_SOFTWARE=Adobe Photoshop CC 2014 (Macintosh)\r\n",
      "  TIFFTAG_XRESOLUTION=72\r\n",
      "  TIFFTAG_YRESOLUTION=72\r\n",
      "Image Structure Metadata:\r\n",
      "  INTERLEAVE=PIXEL\r\n",
      "Corner Coordinates:\r\n",
      "Upper Left  (-20037508.343,10018754.171) (180d 0' 0.00\"E, 66d30'47.74\"N)\r\n",
      "Lower Left  (-20037508.343,       0.000) (180d 0' 0.00\"E,  0d 0' 0.01\"N)\r\n",
      "Upper Right (-10018754.171,10018754.171) ( 90d 0' 0.00\"W, 66d30'47.74\"N)\r\n",
      "Lower Right (-10018754.171,       0.000) ( 90d 0' 0.00\"W,  0d 0' 0.01\"N)\r\n",
      "Center      (-15028131.257, 5009377.086) (135d 0' 0.00\"W, 40d58'47.63\"N)\r\n",
      "Band 1 Block=32768x1 Type=Byte, ColorInterp=Red\r\n",
      "Band 2 Block=32768x1 Type=Byte, ColorInterp=Green\r\n",
      "Band 3 Block=32768x1 Type=Byte, ColorInterp=Blue\r\n"
     ]
    }
   ],
   "source": [
    "!gdalinfo 2012/BlackMarble_2012_A2_geo_corrected_projected_N.tif"
   ]
  },
  {
   "cell_type": "code",
   "execution_count": null,
   "metadata": {
    "collapsed": true
   },
   "outputs": [],
   "source": []
  },
  {
   "cell_type": "code",
   "execution_count": null,
   "metadata": {
    "collapsed": true
   },
   "outputs": [],
   "source": [
    "gdalwarp {src} -t_srs EPSG:3785 {row_tmp} -r lanczos"
   ]
  },
  {
   "cell_type": "code",
   "execution_count": 27,
   "metadata": {
    "collapsed": false
   },
   "outputs": [
    {
     "name": "stdout",
     "output_type": "stream",
     "text": [
      "Building tile levels 0-5, 8192px x 8192px\n",
      "2012.tiles/5/29/row.tif created\n",
      "2012.tiles/5/31/row.tif created\n",
      "2012.tiles/5/27/row.tif created\n",
      "2012.tiles/5/21/row.tif created\n",
      "2012.tiles/5/5/row.tif created\n",
      "2012.tiles/5/7/row.tif created\n",
      "2012.tiles/5/23/row.tif created\n",
      "2012.tiles/5/19/row.tif created\n",
      "2012.tiles/5/15/row.tif created\n",
      "2012.tiles/5/25/row.tif created\n",
      "2012.tiles/5/26/row.tif created\n",
      "2012.tiles/5/22/row.tif created\n",
      "2012.tiles/5/3/row.tif created\n",
      "2012.tiles/5/17/row.tif created\n",
      "2012.tiles/5/18/row.tif created\n",
      "2012.tiles/5/6/row.tif created\n",
      "2012.tiles/5/11/row.tif created\n",
      "2012.tiles/5/24/row.tif created\n",
      "2012.tiles/5/4/row.tif created\n",
      "2012.tiles/5/28/row.tif created\n",
      "2012.tiles/5/20/row.tif created\n",
      "2012.tiles/5/2/row.tif created\n",
      "2012.tiles/5/30/row.tif created\n",
      "2012.tiles/5/14/row.tif created\n",
      "2012.tiles/5/13/row.tif created\n",
      "2012.tiles/5/29 tiles created\n",
      "2012.tiles/5/31 tiles created\n",
      "2012.tiles/5/27 tiles created\n",
      "2012.tiles/5/21 tiles created\n",
      "2012.tiles/5/5 tiles created\n",
      "2012.tiles/5/7 tiles created\n",
      "2012.tiles/5/23 tiles created\n",
      "2012.tiles/5/19 tiles created\n",
      "2012.tiles/5/15 tiles created\n",
      "2012.tiles/5/25 tiles created\n",
      "2012.tiles/5/9/row.tif created\n",
      "2012.tiles/5/26 tiles created\n",
      "2012.tiles/5/22 tiles created\n",
      "2012.tiles/5/3 tiles created\n",
      "2012.tiles/5/17 tiles created\n",
      "2012.tiles/5/18 tiles created\n",
      "2012.tiles/5/6 tiles created\n",
      "2012.tiles/5/11 tiles created\n",
      "2012.tiles/5/24 tiles created\n",
      "2012.tiles/5/4 tiles created\n",
      "2012.tiles/5/28 tiles created\n",
      "2012.tiles/5/20 tiles created\n",
      "2012.tiles/5/2 tiles created\n",
      "2012.tiles/5/30 tiles created\n",
      "2012.tiles/5/14 tiles created\n",
      "2012.tiles/5/13 tiles created\n",
      "2012.tiles/5/9 tiles created\n",
      "2012.tiles/4/13/row.tif created\n",
      "2012.tiles/4/3/row.tif created\n",
      "2012.tiles/4/12/row.tif created\n",
      "2012.tiles/4/1/row.tif created\n",
      "2012.tiles/4/11/row.tif created\n",
      "2012.tiles/4/9/row.tif created\n",
      "2012.tiles/4/3 tiles created\n",
      "2012.tiles/4/12 tiles created\n",
      "2012.tiles/4/2/row.tif created\n",
      "2012.tiles/4/15/row.tif created\n",
      "2012.tiles/4/13 tiles created\n",
      "2012.tiles/4/11 tiles created\n",
      "2012.tiles/4/7/row.tif created\n",
      "2012.tiles/4/9 tiles created\n",
      "2012.tiles/4/14/row.tif created\n",
      "2012.tiles/4/10/row.tif created\n",
      "2012.tiles/4/2 tiles created\n",
      "2012.tiles/4/1 tiles created\n",
      "2012.tiles/4/15 tiles created\n",
      "2012.tiles/4/7 tiles created\n",
      "2012.tiles/4/14 tiles created\n",
      "2012.tiles/4/10 tiles created\n",
      "2012.tiles/3/6/row.tif created\n",
      "2012.tiles/3/6 tiles created\n",
      "2012.tiles/3/7/row.tif created\n",
      "2012.tiles/3/1/row.tif created\n",
      "2012.tiles/3/7 tiles created\n",
      "2012.tiles/3/1 tiles created\n",
      "2012.tiles/3/5/row.tif created\n",
      "2012.tiles/3/5 tiles created\n",
      "2012.tiles/2/3/row.tif created\n",
      "2012.tiles/2/3 tiles created\n",
      "2012.tiles/5/1/row.tif created\n",
      "2012.tiles/5/1 tiles created\n",
      "2012.tiles/5/10/row.tif created\n",
      "2012.tiles/5/10 tiles created\n",
      "2012.tiles/4/5/row.tif created\n",
      "2012.tiles/4/5 tiles created\n",
      "2012.tiles/5/12/row.tif created\n",
      "2012.tiles/5/12 tiles created\n",
      "2012.tiles/4/6/row.tif created\n",
      "2012.tiles/4/6 tiles created\n",
      "2012.tiles/3/3/row.tif created\n",
      "2012.tiles/3/3 tiles created\n",
      "2012.tiles/5/16/row.tif created\n",
      "2012.tiles/5/16 tiles created\n",
      "2012.tiles/5/0/row.tif created\n",
      "2012.tiles/5/0 tiles created\n",
      "2012.tiles/4/8/row.tif created\n",
      "2012.tiles/4/8 tiles created\n",
      "2012.tiles/4/0/row.tif created\n",
      "2012.tiles/4/0 tiles created\n",
      "2012.tiles/3/4/row.tif created\n",
      "2012.tiles/3/4 tiles created\n",
      "2012.tiles/3/0/row.tif created\n",
      "2012.tiles/3/0 tiles created\n",
      "2012.tiles/2/2/row.tif created\n",
      "2012.tiles/2/2 tiles created\n",
      "2012.tiles/2/0/row.tif created\n",
      "2012.tiles/2/0 tiles created\n",
      "2012.tiles/1/1/row.tif created\n",
      "2012.tiles/1/1 tiles created\n",
      "2012.tiles/5/8/row.tif created\n",
      "2012.tiles/5/8 tiles created\n",
      "2012.tiles/4/4/row.tif created\n",
      "2012.tiles/4/4 tiles created\n",
      "2012.tiles/3/2/row.tif created\n",
      "2012.tiles/3/2 tiles created\n",
      "2012.tiles/2/1/row.tif created\n",
      "2012.tiles/2/1 tiles created\n",
      "2012.tiles/1/0/row.tif created\n",
      "2012.tiles/1/0 tiles created\n",
      "2012.tiles/0/0/row.tif created\n",
      "2012.tiles/0/0 tiles created\n",
      "Create all tiles took 151.6 seconds\n"
     ]
    }
   ],
   "source": [
    "year = 2012\n",
    "\n",
    "\n",
    "\n",
    "\n",
    "#nlevels = 9\n",
    "\n",
    "\n",
    "def compute_row(src, dest, level, row):\n",
    "    row_filename = '{dest}/{level}/{row}/row.tif'.format(**locals())\n",
    "    try:\n",
    "        os.makedirs(os.path.dirname(row_filename))\n",
    "    except:\n",
    "        pass\n",
    "    if os.path.exists(row_filename):\n",
    "        return row_filename\n",
    "    row_tmp = row_filename + '.tmp.tif'\n",
    "    try:\n",
    "        os.unlink(row_tmp)\n",
    "    except:\n",
    "        pass\n",
    "    if level == max_level:\n",
    "        n = - webmerc_width * (row + 1.0) / 2**level + webmerc_halfwidth\n",
    "        s = - webmerc_width * (row + 0.0) / 2**level + webmerc_halfwidth\n",
    "        e = webmerc_halfwidth\n",
    "        w = -webmerc_halfwidth\n",
    "        width_px = 256 * 2 ** level\n",
    "        height_px = 256\n",
    "        cmd = 'gdalwarp {src} -t_srs EPSG:3785 {row_tmp}'\n",
    "        # cmd += ' -r lanczos'\n",
    "        cmd += ' -te {w} {n} {e} {s}'\n",
    "        cmd += ' -ts {width_px} {height_px}'\n",
    "        cmd = cmd.format(**locals())\n",
    "        #print cmd\n",
    "        throttled_subprocess_check(cmd)\n",
    "    else:\n",
    "        row1_promise = Promise(compute_row, src, dest, level + 1, row * 2)        \n",
    "        row2 = compute_row(src, dest, level + 1, row * 2 + 1)\n",
    "        row1 = row1_promise.value()\n",
    "        montage_tmp = row_tmp + '.montage.tmp'\n",
    "        cmd = 'montage -geometry x256 -tile 1 {row1} {row2} {montage_tmp}'.format(**locals())\n",
    "        #print cmd\n",
    "        throttled_subprocess_check(cmd)\n",
    "        cmd = 'convert -resize 50% {montage_tmp} {row_tmp}'.format(**locals())\n",
    "        #print cmd\n",
    "        throttled_subprocess_check(cmd)\n",
    "        os.unlink(montage_tmp)\n",
    "        os.unlink(row1)\n",
    "        os.unlink(row2)\n",
    "    sys.stdout.write('{row_filename} created\\n'.format(**locals()))\n",
    "    \n",
    "    row_dir = os.path.dirname(row_filename)\n",
    "    cmd = 'convert {row_tmp} -crop 256x256 -set filename:tile \"%[fx:page.x/256]\"'\n",
    "    cmd += ' +repage +adjoin \"{row_dir}/%[filename:tile].jpg\"'\n",
    "    cmd = cmd.format(**locals())\n",
    "    #print cmd\n",
    "    throttled_subprocess_check(cmd)\n",
    "    os.rename(row_tmp, row_filename)\n",
    "    sys.stdout.write('{row_dir} tiles created\\n'.format(**locals()))\n",
    "    return row_filename\n",
    "\n",
    "#src = '2012small.tif'\n",
    "#dest = '2012small.tiles'\n",
    "\n",
    "src = '2012.vrt'\n",
    "dest = '2012.tiles'\n",
    "\n",
    "max_level = 5\n",
    "maxdim = 256 * 2**max_level\n",
    "print 'Building tile levels 0-{max_level}, {maxdim}px x {maxdim}px'.format(**locals())\n",
    "\n",
    "!rm -f 2012.tiles/*/*/row.tif\n",
    "with Stopwatch('Create all tiles'):\n",
    "    compute_row(src, dest, 0, 0)"
   ]
  },
  {
   "cell_type": "code",
   "execution_count": 26,
   "metadata": {
    "collapsed": false
   },
   "outputs": [],
   "source": [
    "!rm -rf 2012.tiles"
   ]
  },
  {
   "cell_type": "code",
   "execution_count": null,
   "metadata": {
    "collapsed": true
   },
   "outputs": [],
   "source": [
    "# to level 5:\n",
    "# 25.4 seconds\n",
    "\n",
    "# to level 4:\n",
    "# 36.5 secs w/o threads\n",
    "# 11.5 sec w 6 threads\n",
    "# 10.6 sec with 8 threads\n",
    "\n"
   ]
  },
  {
   "cell_type": "markdown",
   "metadata": {},
   "source": [
    "## To do:\n",
    "\n",
    "Figure out Web Mercator bounds in lat, lon\n",
    "Figure out half lat Web Mercator bounds (ugh)\n",
    "Try gdal_warp the 8 lights tiles to 16 web mercator, correct resolution (32768x32768)"
   ]
  },
  {
   "cell_type": "code",
   "execution_count": null,
   "metadata": {
    "collapsed": false
   },
   "outputs": [],
   "source": [
    "131072/4"
   ]
  },
  {
   "cell_type": "code",
   "execution_count": null,
   "metadata": {
    "collapsed": false
   },
   "outputs": [],
   "source": [
    "!rm 2012small.tif\n",
    "!gdalwarp -ts 8192 4096 2012.vrt 2012small.tif"
   ]
  },
  {
   "cell_type": "code",
   "execution_count": null,
   "metadata": {
    "collapsed": false
   },
   "outputs": [],
   "source": [
    "!rm -f test.tif\n",
    "!gdalwarp 2012.vrt -r cubic -t_srs EPSG:3785 test.tif -te -20037508.3428 16280475.5285 20037508.3428 17532819.7999 -ts 8192 256"
   ]
  },
  {
   "cell_type": "code",
   "execution_count": null,
   "metadata": {
    "collapsed": false
   },
   "outputs": [],
   "source": [
    "!gdalwarp --help"
   ]
  },
  {
   "cell_type": "code",
   "execution_count": null,
   "metadata": {
    "collapsed": false
   },
   "outputs": [],
   "source": [
    "20037508.3428/2"
   ]
  },
  {
   "cell_type": "code",
   "execution_count": null,
   "metadata": {
    "collapsed": false
   },
   "outputs": [],
   "source": [
    "!rm -f zz.tif\n"
   ]
  },
  {
   "cell_type": "code",
   "execution_count": null,
   "metadata": {
    "collapsed": false
   },
   "outputs": [],
   "source": [
    "!ls -l zz.tif"
   ]
  },
  {
   "cell_type": "code",
   "execution_count": null,
   "metadata": {
    "collapsed": false
   },
   "outputs": [],
   "source": [
    "!gdalinfo zz.tif"
   ]
  },
  {
   "cell_type": "code",
   "execution_count": null,
   "metadata": {
    "collapsed": false
   },
   "outputs": [],
   "source": [
    "gdalwarp 2012.vrt -t_srs EPSG:3857 2012.tiles/5/7/row.tif.tmp.tif -r lanczos -te -20037508.3428 10018754.1714 20037508.3428 11271098.4428 -ts 8192 256"
   ]
  },
  {
   "cell_type": "code",
   "execution_count": null,
   "metadata": {
    "collapsed": false
   },
   "outputs": [],
   "source": [
    "!gdalinfo zz.tif"
   ]
  },
  {
   "cell_type": "code",
   "execution_count": null,
   "metadata": {
    "collapsed": false
   },
   "outputs": [],
   "source": [
    "!ls 2012/*corrected.tif"
   ]
  },
  {
   "cell_type": "code",
   "execution_count": null,
   "metadata": {
    "collapsed": false
   },
   "outputs": [],
   "source": [
    "!gdal_translate --help"
   ]
  },
  {
   "cell_type": "code",
   "execution_count": null,
   "metadata": {
    "collapsed": true
   },
   "outputs": [],
   "source": []
  }
 ],
 "metadata": {
  "anaconda-cloud": {},
  "kernelspec": {
   "display_name": "Python [default]",
   "language": "python",
   "name": "python2"
  },
  "language_info": {
   "codemirror_mode": {
    "name": "ipython",
    "version": 2
   },
   "file_extension": ".py",
   "mimetype": "text/x-python",
   "name": "python",
   "nbconvert_exporter": "python",
   "pygments_lexer": "ipython2",
   "version": "2.7.12"
  }
 },
 "nbformat": 4,
 "nbformat_minor": 0
}
